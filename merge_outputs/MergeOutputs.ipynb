{
 "cells": [
  {
   "cell_type": "code",
   "execution_count": 1,
   "id": "9254920f",
   "metadata": {},
   "outputs": [
    {
     "name": "stdout",
     "output_type": "stream",
     "text": [
      "g77_boolean.edif      g77_boolean_yosys.dot  MergeOutputs.ipynb\r\n",
      "g77_boolean.json      g77_boolean_yosys.pdf\r\n",
      "g77_boolean.struct.v  g77_boolean.ys\r\n"
     ]
    }
   ],
   "source": [
    "!ls"
   ]
  },
  {
   "cell_type": "code",
   "execution_count": 2,
   "id": "08b80b27",
   "metadata": {},
   "outputs": [],
   "source": [
    "import json\n",
    "import graphviz"
   ]
  },
  {
   "cell_type": "code",
   "execution_count": null,
   "id": "ad5a82a7",
   "metadata": {},
   "outputs": [],
   "source": [
    "with open('g77_boolean.json', 'r') as file:\n",
    "    netlist = json.load(file)\n",
    "    \n",
    "graph = graphviz.graph()\n",
    "\n",
    "for "
   ]
  }
 ],
 "metadata": {
  "kernelspec": {
   "display_name": "cidar_env",
   "language": "python",
   "name": "cidar_env"
  },
  "language_info": {
   "codemirror_mode": {
    "name": "ipython",
    "version": 3
   },
   "file_extension": ".py",
   "mimetype": "text/x-python",
   "name": "python",
   "nbconvert_exporter": "python",
   "pygments_lexer": "ipython3",
   "version": "3.10.6"
  }
 },
 "nbformat": 4,
 "nbformat_minor": 5
}
