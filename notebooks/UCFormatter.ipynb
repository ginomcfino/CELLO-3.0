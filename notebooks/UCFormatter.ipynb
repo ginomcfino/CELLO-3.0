{
 "cells": [
  {
   "cell_type": "markdown",
   "id": "f8400c7e",
   "metadata": {},
   "source": [
    "# CELLO Mk 3.0, EST. 2023-3-3\n",
    "\n",
    "\n",
    "## COMPONENT #3:\n",
    "## UCF Modifier and Formatter\n",
    "\n",
    "Efficiently modify UCF files and never worry about syntaxical errors."
   ]
  },
  {
   "cell_type": "code",
   "execution_count": 1,
   "id": "f6908b18",
   "metadata": {},
   "outputs": [],
   "source": [
    "# Define the input and output paths\n",
    "in_path = \"../../IO/inputs/\"\n",
    "out_path = \"../../IO/temp_folder\""
   ]
  },
  {
   "cell_type": "code",
   "execution_count": 2,
   "id": "345dc35c",
   "metadata": {},
   "outputs": [
    {
     "name": "stdout",
     "output_type": "stream",
     "text": [
      "listing all JSON files in input path: \n",
      "\n",
      "Bth1C1G1T1.UCF.json\n",
      "Bth1C1G1T1.input.json\n",
      "Bth1C1G1T1.output.json\n",
      "Eco1C1G1T1.UCF.json\n",
      "Eco1C1G1T1.input.json\n",
      "Eco1C1G1T1.output.json\n",
      "Eco1C2G2T2.UCF.json\n",
      "Eco1C2G2T2.input.json\n",
      "Eco1C2G2T2.output.json\n",
      "Eco2C1G3T1.UCF.json\n",
      "Eco2C1G3T1.input.json\n",
      "Eco2C1G3T1.output.json\n",
      "Eco2C1G5T1.UCF.json\n",
      "Eco2C1G5T1.input.json\n",
      "Eco2C1G5T1.output.json\n",
      "SC1C1G1T1.UCF.json\n",
      "SC1C1G1T1.input.json\n",
      "SC1C1G1T1.output.json\n",
      "and_netlistconstraints.json\n",
      "custom_input.input.json\n"
     ]
    }
   ],
   "source": [
    "import json\n",
    "import os\n",
    "import glob\n",
    "\n",
    "\n",
    "# Save the current working directory\n",
    "original_directory = os.getcwd()\n",
    "\n",
    "# Change to the target directory\n",
    "os.chdir(in_path)\n",
    "\n",
    "extension = '.json'\n",
    "all_files = sorted(list(glob.glob('*' + extension)))\n",
    "print('listing all JSON files in input path: \\n')\n",
    "for file in all_files:\n",
    "    print(file)"
   ]
  },
  {
   "cell_type": "code",
   "execution_count": 3,
   "id": "ec178ba6",
   "metadata": {},
   "outputs": [
    {
     "name": "stdout",
     "output_type": "stream",
     "text": [
      "ALL UCF files in input path: \n",
      "\n",
      "Bth1C1G1T1.UCF.json\n",
      "Eco1C1G1T1.UCF.json\n",
      "Eco1C2G2T2.UCF.json\n",
      "Eco2C1G3T1.UCF.json\n",
      "Eco2C1G5T1.UCF.json\n",
      "SC1C1G1T1.UCF.json\n"
     ]
    }
   ],
   "source": [
    "UCF_extension = 'UCF.json'\n",
    "\n",
    "UCF_files = sorted(list(glob.glob('*' + UCF_extension)))\n",
    "print('ALL UCF files in input path: \\n')\n",
    "for file in UCF_files:\n",
    "    print(file)\n",
    "    \n",
    "# Change back to the local repository\n",
    "# os.chdir(original_directory)\n",
    "# on second though, maybe use this in the end"
   ]
  },
  {
   "cell_type": "code",
   "execution_count": 4,
   "id": "9420a1d8",
   "metadata": {},
   "outputs": [],
   "source": [
    "# CHOOSE your UCF file\n",
    "UCF = \"Eco1C1G1T1.UCF.json\""
   ]
  },
  {
   "cell_type": "code",
   "execution_count": 5,
   "id": "d57381c5",
   "metadata": {},
   "outputs": [],
   "source": [
    "f = open(UCF, 'r')"
   ]
  },
  {
   "cell_type": "code",
   "execution_count": 6,
   "id": "bb1ebe7f",
   "metadata": {},
   "outputs": [],
   "source": [
    "ucf = json.load(f)"
   ]
  },
  {
   "cell_type": "code",
   "execution_count": 7,
   "id": "46287821",
   "metadata": {},
   "outputs": [
    {
     "name": "stdout",
     "output_type": "stream",
     "text": [
      "700\n"
     ]
    }
   ],
   "source": [
    "print(len(ucf))"
   ]
  },
  {
   "cell_type": "code",
   "execution_count": 9,
   "id": "ce603b91",
   "metadata": {},
   "outputs": [
    {
     "name": "stdout",
     "output_type": "stream",
     "text": [
      "{\n",
      "  \"collection\": \"header\",\n",
      "  \"description\": \"TetR homologs: PhlF, SrpR, BM3R1, HlyIIR, BetI, AmtR, AmeR, QacR, IcaRA, LitR, PsrA, LmrA\",\n",
      "  \"version\": \"Eco1C1G1T1\",\n",
      "  \"date\": \"Thu Dec 24 00:56:10 EST 2015\",\n",
      "  \"author\": [\n",
      "    \"Bryan Der\",\n",
      "    \"Timothy Jones\"\n",
      "  ],\n",
      "  \"organism\": \"Escherichia coli NEB 10-beta\",\n",
      "  \"genome\": \"NEB 10 \\u2206(ara-leu) 7697 araD139 fhuA \\u2206lacX74 galK16 galE15 e14- \\u03c680dlacZ\\u2206M15  recA1 relA1 endA1 nupG  rpsL (StrR) rph spoT1 \\u2206(mrr-hsdRMS-mcrBC)\",\n",
      "  \"media\": \"M9 minimal media composed of M9 media salts (6.78 g/L Na2HPO4, 3 g/L KH2PO4, 1 g/L NH4Cl, 0.5 g/L NaCl, 0.34 g/L thiamine hydrochloride, 0.4% D-glucose, 0.2% Casamino acids, 2 mM MgSO4, and 0.1 mM CaCl2; kanamycin (50 ug/ml), spectinomycin (50 ug/ml)\",\n",
      "  \"temperature\": \"37\",\n",
      "  \"growth\": \"Inoculation: Individual colonies into M9 media, 16 hours overnight in plate shaker.  Dilution: Next day, cells dilute ~200-fold into M9 media with antibiotics, growth for 3 hours.  Induction: Cells diluted ~650-fold into M9 media with antibiotics.  Growth: shaking incubator for 5 hours.  Arrest protein production: PBS and 2mg/ml kanamycin.  Measurement: flow cytometry, data processing for RPU normalization.\"\n",
      "}\n"
     ]
    }
   ],
   "source": [
    "print(json.dumps(ucf[0], indent=2))"
   ]
  },
  {
   "cell_type": "code",
   "execution_count": null,
   "id": "817e1e9d",
   "metadata": {},
   "outputs": [],
   "source": []
  }
 ],
 "metadata": {
  "kernelspec": {
   "display_name": "workenv",
   "language": "python",
   "name": "workenv"
  },
  "language_info": {
   "codemirror_mode": {
    "name": "ipython",
    "version": 3
   },
   "file_extension": ".py",
   "mimetype": "text/x-python",
   "name": "python",
   "nbconvert_exporter": "python",
   "pygments_lexer": "ipython3",
   "version": "3.9.6"
  }
 },
 "nbformat": 4,
 "nbformat_minor": 5
}
