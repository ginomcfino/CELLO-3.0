{
 "cells": [
  {
   "cell_type": "markdown",
   "id": "f8400c7e",
   "metadata": {},
   "source": [
    "# CELLO Mk 3.0, EST. 2023-3-3\n",
    "\n",
    "\n",
    "## COMPONENT #3:\n",
    "## UCF Modifier and Formatter\n",
    "\n",
    "Efficiently modify UCF files and never worry about syntaxical errors."
   ]
  },
  {
   "cell_type": "code",
   "execution_count": null,
   "id": "f6908b18",
   "metadata": {},
   "outputs": [],
   "source": [
    "# Define the input and output paths\n",
    "in_path = \"../../IO/inputs/\"\n",
    "out_path = \"../../IO/temp_folder\""
   ]
  },
  {
   "cell_type": "code",
   "execution_count": null,
   "id": "345dc35c",
   "metadata": {},
   "outputs": [],
   "source": [
    "import json\n",
    "import os\n",
    "import glob\n",
    "import copy\n",
    "\n",
    "# Save the current working directory\n",
    "original_directory = os.getcwd()\n",
    "\n",
    "# Change to the target directory\n",
    "os.chdir(in_path)\n",
    "\n",
    "extension = '.json'\n",
    "all_files = sorted(list(glob.glob('*' + extension)))\n",
    "print('listing all JSON files in input path: \\n')\n",
    "for file in all_files:\n",
    "    print(file)"
   ]
  },
  {
   "cell_type": "code",
   "execution_count": null,
   "id": "ec178ba6",
   "metadata": {},
   "outputs": [],
   "source": [
    "UCF_extension = 'UCF.json'\n",
    "\n",
    "UCF_files = sorted(list(glob.glob('*' + UCF_extension)))\n",
    "print('ALL UCF files in input path: \\n')\n",
    "for file in UCF_files:\n",
    "    print(file)\n",
    "    \n",
    "# Change back to the local repository\n",
    "# os.chdir(original_directory)\n",
    "# on second though, maybe use this in the end"
   ]
  },
  {
   "cell_type": "code",
   "execution_count": null,
   "id": "9420a1d8",
   "metadata": {},
   "outputs": [],
   "source": [
    "# CHOOSE your UCF file\n",
    "UCF = \"Eco2c1G5T1.UCF.json\""
   ]
  },
  {
   "cell_type": "code",
   "execution_count": null,
   "id": "d57381c5",
   "metadata": {},
   "outputs": [],
   "source": [
    "f = open(UCF, 'r')"
   ]
  },
  {
   "cell_type": "code",
   "execution_count": null,
   "id": "bb1ebe7f",
   "metadata": {},
   "outputs": [],
   "source": [
    "ucf = json.load(f)\n",
    "ucf_orig = copy.deepcopy(ucf)"
   ]
  },
  {
   "cell_type": "code",
   "execution_count": null,
   "id": "46287821",
   "metadata": {},
   "outputs": [],
   "source": [
    "print(type(ucf))\n",
    "print(len(ucf))"
   ]
  },
  {
   "cell_type": "code",
   "execution_count": null,
   "id": "7d1deb04",
   "metadata": {
    "scrolled": false
   },
   "outputs": [],
   "source": [
    "collections = []\n",
    "ucf_parts = []\n",
    "\n",
    "\n",
    "for i in ucf:\n",
    "    #print(i.keys())\n",
    "    #print(i['collection'])\n",
    "    collections.append(i['collection'])\n",
    "    #if i['collection'] == 'motif_library':\n",
    "        #print(i['netlist'])\n",
    "    if i['collection'] == 'parts':\n",
    "        ucf_parts.append(i['name'])\n",
    "        #print(i['name'])\n",
    "    #print()\n",
    "\n",
    "# top layer keys\n",
    "collection_names = set(collections)"
   ]
  },
  {
   "cell_type": "code",
   "execution_count": null,
   "id": "b1856840",
   "metadata": {},
   "outputs": [],
   "source": [
    "print('Parts in UCF: \\n')\n",
    "print(ucf_parts)\n",
    "print()\n",
    "print('Collection Names: \\n')\n",
    "print(collection_names)"
   ]
  },
  {
   "cell_type": "code",
   "execution_count": null,
   "id": "cdd827f3",
   "metadata": {},
   "outputs": [],
   "source": [
    "def list_collection_prarmeters(ucf: list, cName: str):\n",
    "    params = []\n",
    "    for e in ucf:\n",
    "        if e['collection'] == cName:\n",
    "            params.append(list(e.keys()))\n",
    "            \n",
    "    params_set = set(tuple(x) for x in params)\n",
    "    params = [list(x) for x in params_set]\n",
    "    return params\n",
    "\n",
    "collection_and_keys = {}\n",
    "\n",
    "\n",
    "for n in collection_names:\n",
    "    # print(f\"PARAM ({n}): \")\n",
    "    params = list_collection_prarmeters(ucf, n)\n",
    "    longest_keys = max(params)\n",
    "    collection_and_keys[n] = longest_keys\n",
    "    # print(longest_keys) # prints the longest parameters list\\\n",
    "\n",
    "print(json.dumps(collection_and_keys, indent=4))"
   ]
  },
  {
   "cell_type": "code",
   "execution_count": null,
   "id": "12951c22",
   "metadata": {},
   "outputs": [],
   "source": [
    "class UCF:\n",
    "    \n",
    "    def __init__(self, filepath, name):\n",
    "        (U, I, O) = self.__parse_helper(filepath, name)\n",
    "        self.UCFmain = U\n",
    "        self.UCFin = I\n",
    "        self.UCFout = O\n",
    "        \n",
    "    def __parse_helper(self, filepath, name):\n",
    "        U = os.path.join(filepath, name + '.UCF.json')\n",
    "        I = os.path.join(filepath, name + '.input.json')\n",
    "        O = os.path.join(filepath, name + '.output.json')\n",
    "        paths = [U, I, O]\n",
    "        out = []\n",
    "        for f in paths:\n",
    "            with open(f, 'r') as ucf:\n",
    "                ucf = json.load(ucf)\n",
    "                out.append(ucf)\n",
    "        return tuple(out)\n",
    "    \n",
    "    def __str__(self):\n",
    "        return f'''{json.dumps(self.UCFmain[0], indent=4)} \\n \n",
    "                   {json.dumps(self.UCFin[0], indent=4)} \\n \n",
    "                   {json.dumps(self.UCFout[0], indent=4)}'''\n",
    "    \n",
    "    def list_collection_prarmeters(self, cName):\n",
    "        params = []\n",
    "        for c in ucf:\n",
    "            if c['collection'] == cName:\n",
    "                params.append(list(c.keys()))\n",
    "        params_set = set(tuple(x) for x in params)\n",
    "        params = [list(x) for x in params_set]\n",
    "        return params\n",
    "    \n",
    "    def query_top_level_collection(self, ucf, cName):\n",
    "        for c in ucf:\n",
    "            if c['collection'] == cName:\n",
    "                return c\n",
    "        \n",
    "        "
   ]
  },
  {
   "cell_type": "code",
   "execution_count": null,
   "id": "910113e9",
   "metadata": {},
   "outputs": [],
   "source": [
    "testUCF = UCF(\"../../IO/inputs\", \"Eco1c1G1T1\")\n",
    "\n",
    "print(testUCF)"
   ]
  },
  {
   "cell_type": "code",
   "execution_count": null,
   "id": "ce603b91",
   "metadata": {},
   "outputs": [],
   "source": [
    "print(json.dumps(ucf[0], indent=2))"
   ]
  },
  {
   "cell_type": "code",
   "execution_count": null,
   "id": "02d55429",
   "metadata": {},
   "outputs": [],
   "source": [
    "'''\n",
    "Testing that all the important parts are in the UCF\n",
    "'''\n",
    "\n",
    "ucf_desc = ucf[0]['description'].split(' ')\n",
    "# print(ucf_desc)\n",
    "ucf_desc = [d.split(',') for d in ucf_desc]\n",
    "ucf_desc = [d[0] for d in ucf_desc]\n",
    "# print(ucf_desc)\n",
    "marker = -1\n",
    "check_parts = []\n",
    "for i in range(len(ucf_desc)):\n",
    "    if ucf_desc[i] == 'homologs:':\n",
    "        marker = i + 1\n",
    "        break\n",
    "if marker < len(ucf_desc) and marker > -1:\n",
    "    check_parts = ucf_desc[marker:]\n",
    "    print('parts from description: \\n')\n",
    "    print(check_parts)\n",
    "    print(len(check_parts))"
   ]
  },
  {
   "cell_type": "code",
   "execution_count": null,
   "id": "f135f4df",
   "metadata": {
    "scrolled": false
   },
   "outputs": [],
   "source": [
    "important_parts = []\n",
    "\n",
    "for c in ucf:\n",
    "    #print('whaaat')\n",
    "    if c['collection'] == 'parts':\n",
    "        #print('ok')\n",
    "        if c['name'] in check_parts:\n",
    "            #print(c['name'])\n",
    "            important_parts.append(c)\n",
    "            \n",
    "#print(json.dumps(important_parts, indent=4))\n",
    "print(len(important_parts))"
   ]
  },
  {
   "cell_type": "code",
   "execution_count": null,
   "id": "1cc97f91",
   "metadata": {
    "scrolled": false
   },
   "outputs": [],
   "source": [
    "ucf_functions = [] # *\n",
    "function_keys = []\n",
    "for c in ucf:\n",
    "    if c['collection'] == 'functions':\n",
    "        function_keys.append(list(c.keys()))\n",
    "        ucf_functions.append(c)\n",
    "        \n",
    "function_keys_set = set(tuple(x) for x in function_keys)\n",
    "unique_function_keys = [list(x) for x in function_keys_set]\n",
    "print(json.dumps(unique_function_keys, indent=2))\n",
    "print(collections.count('functions'))\n",
    "print(len(ucf_functions))\n",
    "\n",
    "def get_values_by_name(listofdicts: list, keys: list):\n",
    "    vals = []\n",
    "    for d in listofdicts:\n",
    "        val = []\n",
    "        for k in keys:\n",
    "            if k in d.keys():\n",
    "                val.append(d[k])\n",
    "                #print(d[k])\n",
    "            else:\n",
    "                print('error')\n",
    "        if val:\n",
    "            vals.append(val)\n",
    "    return vals\n",
    "                \n",
    "#get_values_by_name(ucf_functions, ['name'])\n",
    "function_names = get_values_by_name(ucf_functions, ['name'])\n",
    "print(function_names)\n",
    "#print(json.dumps(ucf_functions[:10], indent=4))"
   ]
  },
  {
   "cell_type": "code",
   "execution_count": null,
   "id": "b098f4bc",
   "metadata": {
    "scrolled": false
   },
   "outputs": [],
   "source": [
    "toxicity_graphs = {}\n",
    "\n",
    "for f in ucf_functions:\n",
    "    print(f['name'])\n",
    "    print(f.keys())\n",
    "    if 'table' in f.keys():\n",
    "        if type(f['table']) == dict:\n",
    "            print('table keys: ' + str(f['table'].keys()))\n",
    "            toxicity_graphs[f['name']] = f['table']\n",
    "        else:\n",
    "            # print(f['table'])\n",
    "            print('long table')\n",
    "    print()\n",
    "    \n",
    "# Conclusion: only toxicity tables have direct X & Y mapping"
   ]
  },
  {
   "cell_type": "code",
   "execution_count": null,
   "id": "a5f79728",
   "metadata": {
    "scrolled": false
   },
   "outputs": [],
   "source": [
    "import matplotlib.pyplot as plt\n",
    "\n",
    "# print(toxicity_graphs)\n",
    "\n",
    "print(list(toxicity_graphs.items())[-1])\n",
    "\n",
    "x = []\n",
    "y = []\n",
    "\n",
    "for g in toxicity_graphs.items():\n",
    "    (fname, ftable) = g\n",
    "    x = ftable['x']\n",
    "    y = ftable['output']\n",
    "\n",
    "    # plot the data\n",
    "    plt.plot(x, y)\n",
    "    \n",
    "plt.title('toxicity graphs')\n",
    "\n",
    "# show the plot\n",
    "plt.show()\n"
   ]
  },
  {
   "cell_type": "code",
   "execution_count": null,
   "id": "805ff4b3",
   "metadata": {},
   "outputs": [],
   "source": []
  }
 ],
 "metadata": {
  "kernelspec": {
   "display_name": "workenv",
   "language": "python",
   "name": "workenv"
  },
  "language_info": {
   "codemirror_mode": {
    "name": "ipython",
    "version": 3
   },
   "file_extension": ".py",
   "mimetype": "text/x-python",
   "name": "python",
   "nbconvert_exporter": "python",
   "pygments_lexer": "ipython3",
   "version": "3.9.6"
  }
 },
 "nbformat": 4,
 "nbformat_minor": 5
}
