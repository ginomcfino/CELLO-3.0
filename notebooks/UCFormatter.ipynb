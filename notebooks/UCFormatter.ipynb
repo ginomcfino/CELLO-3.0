{
 "cells": [
  {
   "cell_type": "markdown",
   "id": "f8400c7e",
   "metadata": {},
   "source": [
    "# CELLO Mk 3.0, EST. 2023-3-3\n",
    "\n",
    "\n",
    "## COMPONENT #3:\n",
    "## UCF Modifier and Formatter\n",
    "\n",
    "Efficiently modify UCF files and never worry about syntaxical errors."
   ]
  },
  {
   "cell_type": "code",
   "execution_count": 1,
   "id": "f6908b18",
   "metadata": {},
   "outputs": [],
   "source": [
    "# Define the input and output paths\n",
    "in_path = \"../../IO/inputs/\"\n",
    "out_path = \"../../IO/temp_folder\""
   ]
  },
  {
   "cell_type": "code",
   "execution_count": 2,
   "id": "345dc35c",
   "metadata": {},
   "outputs": [
    {
     "name": "stdout",
     "output_type": "stream",
     "text": [
      "listing all JSON files in input path: \n",
      "\n",
      "Bth1C1G1T1.UCF.json\n",
      "Bth1C1G1T1.input.json\n",
      "Bth1C1G1T1.output.json\n",
      "Eco1C1G1T1.UCF.json\n",
      "Eco1C1G1T1.input.json\n",
      "Eco1C1G1T1.output.json\n",
      "Eco1C2G2T2.UCF.json\n",
      "Eco1C2G2T2.input.json\n",
      "Eco1C2G2T2.output.json\n",
      "Eco2C1G3T1.UCF.json\n",
      "Eco2C1G3T1.input.json\n",
      "Eco2C1G3T1.output.json\n",
      "Eco2C1G5T1.UCF.json\n",
      "Eco2C1G5T1.input.json\n",
      "Eco2C1G5T1.output.json\n",
      "SC1C1G1T1.UCF.json\n",
      "SC1C1G1T1.input.json\n",
      "SC1C1G1T1.output.json\n",
      "and_netlistconstraints.json\n",
      "custom_input.input.json\n"
     ]
    }
   ],
   "source": [
    "import json\n",
    "import os\n",
    "import glob\n",
    "import copy\n",
    "\n",
    "# Save the current working directory\n",
    "original_directory = os.getcwd()\n",
    "\n",
    "# Change to the target directory\n",
    "os.chdir(in_path)\n",
    "\n",
    "extension = '.json'\n",
    "all_files = sorted(list(glob.glob('*' + extension)))\n",
    "print('listing all JSON files in input path: \\n')\n",
    "for file in all_files:\n",
    "    print(file)"
   ]
  },
  {
   "cell_type": "code",
   "execution_count": 3,
   "id": "ec178ba6",
   "metadata": {},
   "outputs": [
    {
     "name": "stdout",
     "output_type": "stream",
     "text": [
      "ALL UCF files in input path: \n",
      "\n",
      "Bth1C1G1T1.UCF.json\n",
      "Eco1C1G1T1.UCF.json\n",
      "Eco1C2G2T2.UCF.json\n",
      "Eco2C1G3T1.UCF.json\n",
      "Eco2C1G5T1.UCF.json\n",
      "SC1C1G1T1.UCF.json\n"
     ]
    }
   ],
   "source": [
    "UCF_extension = 'UCF.json'\n",
    "\n",
    "UCF_files = sorted(list(glob.glob('*' + UCF_extension)))\n",
    "print('ALL UCF files in input path: \\n')\n",
    "for file in UCF_files:\n",
    "    print(file)\n",
    "    \n",
    "# Change back to the local repository\n",
    "# os.chdir(original_directory)\n",
    "# on second though, maybe use this in the end"
   ]
  },
  {
   "cell_type": "code",
   "execution_count": 4,
   "id": "9420a1d8",
   "metadata": {},
   "outputs": [],
   "source": [
    "# CHOOSE your UCF file\n",
    "UCF = \"Eco2c1G5T1.UCF.json\""
   ]
  },
  {
   "cell_type": "code",
   "execution_count": 5,
   "id": "d57381c5",
   "metadata": {},
   "outputs": [],
   "source": [
    "f = open(UCF, 'r')"
   ]
  },
  {
   "cell_type": "code",
   "execution_count": 6,
   "id": "bb1ebe7f",
   "metadata": {},
   "outputs": [],
   "source": [
    "ucf = json.load(f)\n",
    "ucf_orig = copy.deepcopy(ucf)"
   ]
  },
  {
   "cell_type": "code",
   "execution_count": 7,
   "id": "46287821",
   "metadata": {},
   "outputs": [
    {
     "name": "stdout",
     "output_type": "stream",
     "text": [
      "<class 'list'>\n",
      "681\n"
     ]
    }
   ],
   "source": [
    "print(type(ucf))\n",
    "print(len(ucf))"
   ]
  },
  {
   "cell_type": "code",
   "execution_count": 8,
   "id": "7d1deb04",
   "metadata": {
    "scrolled": false
   },
   "outputs": [],
   "source": [
    "collections = []\n",
    "ucf_parts = []\n",
    "\n",
    "\n",
    "for i in ucf:\n",
    "    #print(i.keys())\n",
    "    #print(i['collection'])\n",
    "    collections.append(i['collection'])\n",
    "    #if i['collection'] == 'motif_library':\n",
    "        #print(i['netlist'])\n",
    "    if i['collection'] == 'parts':\n",
    "        ucf_parts.append(i['name'])\n",
    "        #print(i['name'])\n",
    "    #print()\n",
    "\n",
    "collection_names = set(collections)"
   ]
  },
  {
   "cell_type": "code",
   "execution_count": 9,
   "id": "b1856840",
   "metadata": {},
   "outputs": [
    {
     "name": "stdout",
     "output_type": "stream",
     "text": [
      "Parts in UCF: \n",
      "\n",
      "['pLambda', 'Lambda', 'R1', 'R2', 'RiboJ54', 'Ret0', 'pP22', 'P22', 'R3', 'RiboJ71', 'IlvGEDA', 'pTP901', 'TP901', 'R4', 'RiboJ69', 'RpoC', 'pR1t', 'R1t', 'R5', 'BydvJ', 'ECK120029600', 'ElvJ', 'pTuc', 'Tuc2009', 'R6', 'pVP585', 'VP585', 'R16', 'SarJ', 'DT19', 'pPhage186', 'Phage186', 'R7', 'RiboJ10', 'DT83', 'p933W', '933W', 'R8', 'R9', 'PlmJ', 'DT36', 'pL5', 'L5', 'R10', 'RiboJ60', 'L3S2P11', 'pN15', 'N15', 'R11', 'ScmJ', 'DT42', 'pP2hd', 'pP2', 'pWphi', 'P2hd', 'P2', 'Wphi', 'R12', 'R13', 'R14', 'R15', 'R17', 'RiboJ64', 'DT56', 'DT86', 'F_scar', 'E_scar', 'D_scar', 'C_scar', 'B_scar', 'A_scar', 'Y_scar', 'X_scar', 'V_scar', 'U_scar', 'R_scar', 'Q_scar', 'P_scar', 'O_scar', 'G_scar']\n",
      "\n",
      "Collection Names: \n",
      "\n",
      "{'genetic_locations', 'header', 'gates', 'motif_library', 'logic_constraints', 'models', 'measurement_std', 'parts', 'circuit_rules', 'functions', 'structures', 'device_rules'}\n"
     ]
    }
   ],
   "source": [
    "print('Parts in UCF: \\n')\n",
    "print(ucf_parts)\n",
    "print()\n",
    "print('Collection Names: \\n')\n",
    "print(collection_names)"
   ]
  },
  {
   "cell_type": "code",
   "execution_count": 10,
   "id": "cdd827f3",
   "metadata": {},
   "outputs": [
    {
     "name": "stdout",
     "output_type": "stream",
     "text": [
      "PARAM (genetic_locations): \n",
      "['collection', 'locations']\n",
      "PARAM (header): \n",
      "['collection', 'description', 'version', 'date', 'author', 'organism', 'genome', 'media', 'temperature', 'growth']\n",
      "PARAM (gates): \n",
      "['collection', 'name', 'system', 'group', 'regulator', 'gate_type', 'color', 'model', 'structure']\n",
      "PARAM (motif_library): \n",
      "['outputs', 'inputs', 'netlist', 'collection']\n",
      "PARAM (logic_constraints): \n",
      "['collection', 'available_gates']\n",
      "PARAM (models): \n",
      "['collection', 'name', 'functions', 'parameters']\n",
      "PARAM (measurement_std): \n",
      "['collection', 'signal_carrier_units', 'normalization_instructions', 'plasmid_description']\n",
      "PARAM (parts): \n",
      "['collection', 'type', 'name', 'dnasequence']\n",
      "PARAM (circuit_rules): \n",
      "['collection', 'rules']\n",
      "PARAM (functions): \n",
      "['collection', 'name', 'variables', 'table']\n",
      "PARAM (structures): \n",
      "['collection', 'name', 'inputs', 'outputs', 'devices']\n",
      "PARAM (device_rules): \n",
      "['collection', 'rules']\n"
     ]
    }
   ],
   "source": [
    "def list_collection_prarmeters(ucf: list, cName: str):\n",
    "    params = []\n",
    "    for e in ucf:\n",
    "        if e['collection'] == cName:\n",
    "            params.append(list(e.keys()))\n",
    "            \n",
    "    params_set = set(tuple(x) for x in params)\n",
    "    params = [list(x) for x in params_set]\n",
    "    return params\n",
    "\n",
    "for n in collection_names:\n",
    "    print(f\"PARAM ({n}): \")\n",
    "    params = list_collection_prarmeters(ucf, n)\n",
    "    print(max(params)) # prints the longest parameters list"
   ]
  },
  {
   "cell_type": "code",
   "execution_count": 11,
   "id": "ce603b91",
   "metadata": {},
   "outputs": [
    {
     "name": "stdout",
     "output_type": "stream",
     "text": [
      "{\n",
      "  \"collection\": \"header\",\n",
      "  \"description\": \"cI homologs: lambda, P22, TP901, r1t, Tuc2009, phage186, 933W, L5, N15, P2hd, P2, VP585, Wphi\",\n",
      "  \"version\": \"Eco2C1G5T1\",\n",
      "  \"date\": \"Tue April 13 16:01:11 EDT 2021\",\n",
      "  \"author\": [\n",
      "    \"Jai Padmakumar\",\n",
      "    \"Alexander J. Triassi\",\n",
      "    \"Hamid Doosthosseini\",\n",
      "    \"Samuel M.D. Oliveira\"\n",
      "  ],\n",
      "  \"organism\": \"Escherichia coli MG1655 (Extended #Gates))\",\n",
      "  \"genome\": \"Wildtype (NCBI RefSeq: CP007799) with three landing pads integrated\",\n",
      "  \"media\": \"M9 minimal media composed of M9 media salts (6.78 g/L Na2HPO4, 3 g/L KH2PO4, 1 g/L NH4Cl, 0.5 g/L NaCl, 0.34 g/L thiamine hydrochloride, 0.4% D-glucose, 0.2% Casamino acids, 2 mM MgSO4, and 0.1 mM CaCl2\",\n",
      "  \"temperature\": \"37\",\n",
      "  \"growth\": \"Inoculation: Individual colonies into M9 media, 16 hours overnight in plate shaker.\\tDilution: Next day, cells diluted 150-fold into M9 media without antibiotics, growth for 1.5 hours.\\tInduction: Cells diluted into M9 media without antibiotics (starting OD600 = 0.0033).\\tGrowth: shaking incubator for 5 hours.\\tArrest protein production: PBS and 1 mg/ml kanamycin.  Measurement: flow cytometry, data processing for RPU normalization.\"\n",
      "}\n"
     ]
    }
   ],
   "source": [
    "print(json.dumps(ucf[0], indent=2))"
   ]
  },
  {
   "cell_type": "code",
   "execution_count": 12,
   "id": "02d55429",
   "metadata": {},
   "outputs": [
    {
     "name": "stdout",
     "output_type": "stream",
     "text": [
      "parts from description: \n",
      "\n",
      "['lambda', 'P22', 'TP901', 'r1t', 'Tuc2009', 'phage186', '933W', 'L5', 'N15', 'P2hd', 'P2', 'VP585', 'Wphi']\n",
      "13\n"
     ]
    }
   ],
   "source": [
    "'''\n",
    "Testing that all the important parts are in the UCF\n",
    "'''\n",
    "\n",
    "ucf_desc = ucf[0]['description'].split(' ')\n",
    "# print(ucf_desc)\n",
    "ucf_desc = [d.split(',') for d in ucf_desc]\n",
    "ucf_desc = [d[0] for d in ucf_desc]\n",
    "# print(ucf_desc)\n",
    "marker = -1\n",
    "check_parts = []\n",
    "for i in range(len(ucf_desc)):\n",
    "    if ucf_desc[i] == 'homologs:':\n",
    "        marker = i + 1\n",
    "        break\n",
    "if marker < len(ucf_desc) and marker > -1:\n",
    "    check_parts = ucf_desc[marker:]\n",
    "    print('parts from description: \\n')\n",
    "    print(check_parts)\n",
    "    print(len(check_parts))"
   ]
  },
  {
   "cell_type": "code",
   "execution_count": 13,
   "id": "f135f4df",
   "metadata": {
    "scrolled": false
   },
   "outputs": [
    {
     "name": "stdout",
     "output_type": "stream",
     "text": [
      "10\n"
     ]
    }
   ],
   "source": [
    "important_parts = []\n",
    "\n",
    "for c in ucf:\n",
    "    #print('whaaat')\n",
    "    if c['collection'] == 'parts':\n",
    "        #print('ok')\n",
    "        if c['name'] in check_parts:\n",
    "            #print(c['name'])\n",
    "            important_parts.append(c)\n",
    "            \n",
    "#print(json.dumps(important_parts, indent=4))\n",
    "print(len(important_parts))"
   ]
  },
  {
   "cell_type": "code",
   "execution_count": 14,
   "id": "1cc97f91",
   "metadata": {
    "scrolled": false
   },
   "outputs": [
    {
     "name": "stdout",
     "output_type": "stream",
     "text": [
      "[\n",
      "  [\n",
      "    \"collection\",\n",
      "    \"name\",\n",
      "    \"variables\",\n",
      "    \"table\"\n",
      "  ],\n",
      "  [\n",
      "    \"collection\",\n",
      "    \"name\",\n",
      "    \"equation\",\n",
      "    \"variables\"\n",
      "  ],\n",
      "  [\n",
      "    \"collection\",\n",
      "    \"name\",\n",
      "    \"equation\",\n",
      "    \"variables\",\n",
      "    \"parameters\"\n",
      "  ]\n",
      "]\n",
      "36\n",
      "36\n",
      "[['Hill_response'], ['linear_input_composition'], ['R1_Lambda_toxicity'], ['R2_Lambda_toxicity'], ['R3_P22_toxicity'], ['R4_TP901_toxicity'], ['R5_R1t_toxicity'], ['R6_Tuc2009_toxicity'], ['R7_Phage186_toxicity'], ['R8_933W_toxicity'], ['R9_933W_toxicity'], ['R10_L5_toxicity'], ['R11_N15_toxicity'], ['R12_P2hd_toxicity'], ['R13_P2_toxicity'], ['R14_P2_toxicity'], ['R15_P2_toxicity'], ['R16_VP585_toxicity'], ['R17_Wphi_toxicity'], ['R1_Lambda_cytometry'], ['R2_Lambda_cytometry'], ['R3_P22_cytometry'], ['R4_TP901_cytometry'], ['R5_R1t_cytometry'], ['R6_Tuc2009_cytometry'], ['R7_Phage186_cytometry'], ['R8_933W_cytometry'], ['R9_933W_cytometry'], ['R10_L5_cytometry'], ['R11_N15_cytometry'], ['R12_P2hd_cytometry'], ['R13_P2_cytometry'], ['R14_P2_cytometry'], ['R15_P2_cytometry'], ['R16_VP585_cytometry'], ['R17_Wphi_cytometry']]\n"
     ]
    }
   ],
   "source": [
    "ucf_functions = [] # *\n",
    "function_keys = []\n",
    "for c in ucf:\n",
    "    if c['collection'] == 'functions':\n",
    "        function_keys.append(list(c.keys()))\n",
    "        ucf_functions.append(c)\n",
    "        \n",
    "function_keys_set = set(tuple(x) for x in function_keys)\n",
    "unique_function_keys = [list(x) for x in function_keys_set]\n",
    "print(json.dumps(unique_function_keys, indent=2))\n",
    "print(collections.count('functions'))\n",
    "print(len(ucf_functions))\n",
    "\n",
    "def get_values_by_name(listofdicts: list, keys: list):\n",
    "    vals = []\n",
    "    for d in listofdicts:\n",
    "        val = []\n",
    "        for k in keys:\n",
    "            if k in d.keys():\n",
    "                val.append(d[k])\n",
    "                #print(d[k])\n",
    "            else:\n",
    "                print('error')\n",
    "        if val:\n",
    "            vals.append(val)\n",
    "    return vals\n",
    "                \n",
    "#get_values_by_name(ucf_functions, ['name'])\n",
    "function_names = get_values_by_name(ucf_functions, ['name'])\n",
    "print(function_names)\n",
    "#print(json.dumps(ucf_functions[:10], indent=4))"
   ]
  },
  {
   "cell_type": "code",
   "execution_count": 15,
   "id": "b098f4bc",
   "metadata": {
    "scrolled": false
   },
   "outputs": [
    {
     "name": "stdout",
     "output_type": "stream",
     "text": [
      "Hill_response\n",
      "dict_keys(['collection', 'name', 'equation', 'variables', 'parameters'])\n",
      "\n",
      "linear_input_composition\n",
      "dict_keys(['collection', 'name', 'equation', 'variables'])\n",
      "\n",
      "R1_Lambda_toxicity\n",
      "dict_keys(['collection', 'name', 'variables', 'table'])\n",
      "table keys: dict_keys(['x', 'output'])\n",
      "\n",
      "R2_Lambda_toxicity\n",
      "dict_keys(['collection', 'name', 'variables', 'table'])\n",
      "table keys: dict_keys(['x', 'output'])\n",
      "\n",
      "R3_P22_toxicity\n",
      "dict_keys(['collection', 'name', 'variables', 'table'])\n",
      "table keys: dict_keys(['x', 'output'])\n",
      "\n",
      "R4_TP901_toxicity\n",
      "dict_keys(['collection', 'name', 'variables', 'table'])\n",
      "table keys: dict_keys(['x', 'output'])\n",
      "\n",
      "R5_R1t_toxicity\n",
      "dict_keys(['collection', 'name', 'variables', 'table'])\n",
      "table keys: dict_keys(['x', 'output'])\n",
      "\n",
      "R6_Tuc2009_toxicity\n",
      "dict_keys(['collection', 'name', 'variables', 'table'])\n",
      "table keys: dict_keys(['x', 'output'])\n",
      "\n",
      "R7_Phage186_toxicity\n",
      "dict_keys(['collection', 'name', 'variables', 'table'])\n",
      "table keys: dict_keys(['x', 'output'])\n",
      "\n",
      "R8_933W_toxicity\n",
      "dict_keys(['collection', 'name', 'variables', 'table'])\n",
      "table keys: dict_keys(['x', 'output'])\n",
      "\n",
      "R9_933W_toxicity\n",
      "dict_keys(['collection', 'name', 'variables', 'table'])\n",
      "table keys: dict_keys(['x', 'output'])\n",
      "\n",
      "R10_L5_toxicity\n",
      "dict_keys(['collection', 'name', 'variables', 'table'])\n",
      "table keys: dict_keys(['x', 'output'])\n",
      "\n",
      "R11_N15_toxicity\n",
      "dict_keys(['collection', 'name', 'variables', 'table'])\n",
      "table keys: dict_keys(['x', 'output'])\n",
      "\n",
      "R12_P2hd_toxicity\n",
      "dict_keys(['collection', 'name', 'variables', 'table'])\n",
      "table keys: dict_keys(['x', 'output'])\n",
      "\n",
      "R13_P2_toxicity\n",
      "dict_keys(['collection', 'name', 'variables', 'table'])\n",
      "table keys: dict_keys(['x', 'output'])\n",
      "\n",
      "R14_P2_toxicity\n",
      "dict_keys(['collection', 'name', 'variables', 'table'])\n",
      "table keys: dict_keys(['x', 'output'])\n",
      "\n",
      "R15_P2_toxicity\n",
      "dict_keys(['collection', 'name', 'variables', 'table'])\n",
      "table keys: dict_keys(['x', 'output'])\n",
      "\n",
      "R16_VP585_toxicity\n",
      "dict_keys(['collection', 'name', 'variables', 'table'])\n",
      "table keys: dict_keys(['x', 'output'])\n",
      "\n",
      "R17_Wphi_toxicity\n",
      "dict_keys(['collection', 'name', 'variables', 'table'])\n",
      "table keys: dict_keys(['x', 'output'])\n",
      "\n",
      "R1_Lambda_cytometry\n",
      "dict_keys(['collection', 'name', 'variables', 'table'])\n",
      "long table\n",
      "\n",
      "R2_Lambda_cytometry\n",
      "dict_keys(['collection', 'name', 'variables', 'table'])\n",
      "long table\n",
      "\n",
      "R3_P22_cytometry\n",
      "dict_keys(['collection', 'name', 'variables', 'table'])\n",
      "long table\n",
      "\n",
      "R4_TP901_cytometry\n",
      "dict_keys(['collection', 'name', 'variables', 'table'])\n",
      "long table\n",
      "\n",
      "R5_R1t_cytometry\n",
      "dict_keys(['collection', 'name', 'variables', 'table'])\n",
      "long table\n",
      "\n",
      "R6_Tuc2009_cytometry\n",
      "dict_keys(['collection', 'name', 'variables', 'table'])\n",
      "long table\n",
      "\n",
      "R7_Phage186_cytometry\n",
      "dict_keys(['collection', 'name', 'variables', 'table'])\n",
      "long table\n",
      "\n",
      "R8_933W_cytometry\n",
      "dict_keys(['collection', 'name', 'variables', 'table'])\n",
      "long table\n",
      "\n",
      "R9_933W_cytometry\n",
      "dict_keys(['collection', 'name', 'variables', 'table'])\n",
      "long table\n",
      "\n",
      "R10_L5_cytometry\n",
      "dict_keys(['collection', 'name', 'variables', 'table'])\n",
      "long table\n",
      "\n",
      "R11_N15_cytometry\n",
      "dict_keys(['collection', 'name', 'variables', 'table'])\n",
      "long table\n",
      "\n",
      "R12_P2hd_cytometry\n",
      "dict_keys(['collection', 'name', 'variables', 'table'])\n",
      "long table\n",
      "\n",
      "R13_P2_cytometry\n",
      "dict_keys(['collection', 'name', 'variables', 'table'])\n",
      "long table\n",
      "\n",
      "R14_P2_cytometry\n",
      "dict_keys(['collection', 'name', 'variables', 'table'])\n",
      "long table\n",
      "\n",
      "R15_P2_cytometry\n",
      "dict_keys(['collection', 'name', 'variables', 'table'])\n",
      "long table\n",
      "\n",
      "R16_VP585_cytometry\n",
      "dict_keys(['collection', 'name', 'variables', 'table'])\n",
      "long table\n",
      "\n",
      "R17_Wphi_cytometry\n",
      "dict_keys(['collection', 'name', 'variables', 'table'])\n",
      "long table\n",
      "\n"
     ]
    }
   ],
   "source": [
    "toxicity_graphs = {}\n",
    "\n",
    "for f in ucf_functions:\n",
    "    print(f['name'])\n",
    "    print(f.keys())\n",
    "    if 'table' in f.keys():\n",
    "        if type(f['table']) == dict:\n",
    "            print('table keys: ' + str(f['table'].keys()))\n",
    "            toxicity_graphs[f['name']] = f['table']\n",
    "        else:\n",
    "            # print(f['table'])\n",
    "            print('long table')\n",
    "    print()\n",
    "    \n",
    "# Conclusion: only toxicity tables have direct X & Y mapping"
   ]
  },
  {
   "cell_type": "code",
   "execution_count": 16,
   "id": "a5f79728",
   "metadata": {
    "scrolled": false
   },
   "outputs": [
    {
     "name": "stdout",
     "output_type": "stream",
     "text": [
      "('R17_Wphi_toxicity', {'x': [0.013914542, 0.030185553, 0.058391454, 0.093907232, 0.14300548, 0.202310877, 0.353791451, 0.625141869, 1.184715283, 1.801997992, 3.241444823, 4.620927241], 'output': [1.0, 0.957358805, 0.892530273, 0.928368747, 0.946287984, 0.893397012, 0.901493208, 0.916871191, 0.902786683, 0.932636847, 0.956544395, 0.941218741]})\n"
     ]
    },
    {
     "data": {
      "image/png": "[encoded data removed]",
      "text/plain": [
       "<Figure size 640x480 with 1 Axes>"
      ]
     },
     "metadata": {},
     "output_type": "display_data"
    }
   ],
   "source": [
    "import matplotlib.pyplot as plt\n",
    "\n",
    "# print(toxicity_graphs)\n",
    "\n",
    "print(list(toxicity_graphs.items())[-1])\n",
    "\n",
    "x = []\n",
    "y = []\n",
    "\n",
    "for g in toxicity_graphs.items():\n",
    "    (fname, ftable) = g\n",
    "    x = ftable['x']\n",
    "    y = ftable['output']\n",
    "\n",
    "    # plot the data\n",
    "    plt.plot(x, y)\n",
    "    \n",
    "plt.title('toxicity graphs')\n",
    "\n",
    "# show the plot\n",
    "plt.show()\n"
   ]
  },
  {
   "cell_type": "code",
   "execution_count": null,
   "id": "805ff4b3",
   "metadata": {},
   "outputs": [],
   "source": []
  }
 ],
 "metadata": {
  "kernelspec": {
   "display_name": "workenv",
   "language": "python",
   "name": "workenv"
  },
  "language_info": {
   "codemirror_mode": {
    "name": "ipython",
    "version": 3
   },
   "file_extension": ".py",
   "mimetype": "text/x-python",
   "name": "python",
   "nbconvert_exporter": "python",
   "pygments_lexer": "ipython3",
   "version": "3.9.6"
  }
 },
 "nbformat": 4,
 "nbformat_minor": 5
}
