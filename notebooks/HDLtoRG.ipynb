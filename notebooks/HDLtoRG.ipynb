{
 "cells": [
  {
   "cell_type": "markdown",
   "id": "89d0cc38",
   "metadata": {},
   "source": [
    "# CELLO Mk 3.0, EST. 2023-3-2\n",
    "\n",
    "\n",
    "## COMPONENT #1:\n",
    "## Hardware Description Language to Restricted Graph\n",
    "### (verilog to netlist)\n",
    "\n",
    "Converts Verilog / STL to a netlist graph representation, using only NOR or NAND gates."
   ]
  },
  {
   "cell_type": "code",
   "execution_count": null,
   "id": "e26cb944",
   "metadata": {},
   "outputs": [],
   "source": [
    "!pwd\n",
    "\n",
    "# Define the input and output paths\n",
    "in_path = \"../../IO/inputs\"\n",
    "out_path = \"../../IO/temp_folder\"\n",
    "\n",
    "# print(\"\\nTesting Folder Contents:\\n\")\n",
    "# !ls {out_path}\n",
    "\n",
    "# TOGGLE\n",
    "useExtVrlgs = False\n",
    "\n",
    "if useExtVrlgs:\n",
    "    in_path += \"/external_verilogs\"\n",
    "    \n",
    "# Define the verilog you want to test\n",
    "verilog = 'md5core'"
   ]
  },
  {
   "cell_type": "markdown",
   "id": "a3c54ded",
   "metadata": {},
   "source": [
    "#### YOSYS COMMANDS:\n",
    "\n",
    "read_verilog /path/to/verilog  \n",
    "flatten  \n",
    "splitnets -ports  \n",
    "hierarchy -auto-top  \n",
    "proc  \n",
    "techmap  \n",
    "opt  \n",
    "abc -g NOR  \n",
    "opt  \n",
    "hierarchy -auto-top  \n",
    "opt-clean -purge  \n",
    "show -format pdf -prefix /path/to/output/verilog_yosys  \n",
    "write_edif /path/to/output/verilog.edif  \n",
    "write_json /path/to/output/verilog.json  "
   ]
  },
  {
   "cell_type": "code",
   "execution_count": null,
   "id": "f361c201",
   "metadata": {
    "scrolled": false
   },
   "outputs": [],
   "source": [
    "! yosys \\\n",
    "    -p \"read_verilog {in_path}/{verilog}.v; \\\n",
    "        flatten; \\\n",
    "        splitnets -ports; \\\n",
    "        hierarchy -auto-top; \\\n",
    "        proc; \\\n",
    "        techmap; \\\n",
    "        opt; \\\n",
    "        abc -g NOR; \\\n",
    "        opt; \\\n",
    "        hierarchy -auto-top; \\\n",
    "        opt_clean -purge; \\\n",
    "        show -format pdf -prefix {out_path}/{verilog}_yosys; \\\n",
    "        write_edif {out_path}/{verilog}.edif; \\\n",
    "        write_json {out_path}/{verilog}.json\""
   ]
  }
 ],
 "metadata": {
  "kernelspec": {
   "display_name": "workenv",
   "language": "python",
   "name": "workenv"
  },
  "language_info": {
   "codemirror_mode": {
    "name": "ipython",
    "version": 3
   },
   "file_extension": ".py",
   "mimetype": "text/x-python",
   "name": "python",
   "nbconvert_exporter": "python",
   "pygments_lexer": "ipython3",
   "version": "3.9.6"
  }
 },
 "nbformat": 4,
 "nbformat_minor": 5
}
